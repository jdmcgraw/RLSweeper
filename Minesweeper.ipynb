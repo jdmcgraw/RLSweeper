{
  "nbformat": 4,
  "nbformat_minor": 0,
  "metadata": {
    "colab": {
      "name": "Minesweeper",
      "provenance": [],
      "collapsed_sections": []
    },
    "kernelspec": {
      "name": "python3",
      "display_name": "Python 3"
    },
    "language_info": {
      "name": "python"
    }
  },
  "cells": [
    {
      "cell_type": "code",
      "execution_count": 78,
      "metadata": {
        "id": "49GPKGdqTx2f"
      },
      "outputs": [],
      "source": [
        "import numpy as np\n",
        "import random\n",
        "\n",
        "\n",
        "class Minesweeper(object):\n",
        "    def __init__(self):\n",
        "        print(\"[INIT] Game Init\")\n",
        "        self.field = None  # This is the hidden game state\n",
        "        self.display_field = None  # This is the public game state\n",
        "        self.game_over = False\n",
        "        self.mines = 10\n",
        "        self.width, self.height = None, None\n",
        "        random.seed = 0\n",
        "\n",
        "    def get_neighboring_mines(self, x, y):\n",
        "        neighbors = self.field[:, x-1:x+2][y-1:y+2, :]\n",
        "        return np.sum(neighbors)\n",
        "\n",
        "    def play_square(self, x, y):\n",
        "        if self.game_over:\n",
        "            return\n",
        "        if (x < 1 or x > self.width) or (y < 1 or y > self.height):\n",
        "            return\n",
        "        # This is not zero-indexed, because it's on the side of the player's request\n",
        "        self.display_field[y-1][x-1] = 1\n",
        "        self.draw_field()\n",
        "\n",
        "    def flag_square(self, x, y):\n",
        "        if self.game_over:\n",
        "            return\n",
        "        # This is not zero-indexed, because it's on the side of the player's request\n",
        "        self.display_field[y-1][x-1] = 2\n",
        "        self.draw_field()\n",
        "\n",
        "    def draw_field(self):\n",
        "        print()\n",
        "        for y, row in enumerate(self.display_field):\n",
        "            for x, item in enumerate(self.display_field[y]):\n",
        "                if self.display_field[y][x] == 0:\n",
        "                    print(\"⬜\", end=\"\\t\")\n",
        "                if self.display_field[y][x] == 1:\n",
        "                    if self.field[y][x] == 0:\n",
        "                        print(int(self.get_neighboring_mines(x, y)), end=\"\\t\")\n",
        "                    else:\n",
        "                        print(\"💣\", end=\"\\t\")\n",
        "                        self.game_over = True\n",
        "                if self.display_field[y][x] == 2:\n",
        "                    print(\"🚩\", end=\"\\t\")\n",
        "            print(\"\\n\")\n",
        "        if self.game_over:\n",
        "            print(\"\\nGAME OVER!\\n\")\n",
        "\n",
        "    def generate_field(self, height, width, show=False):\n",
        "        print(\"[INFO] Generating Minefield\")\n",
        "        self.width, self.height = width, height\n",
        "        self.field = np.zeros(shape=(height, width))\n",
        "        self.mines = min(self.mines, height*width)\n",
        "\n",
        "        mine_counter = 0\n",
        "        while mine_counter < self.mines:\n",
        "            proposed_x = random.randrange(0, width)\n",
        "            proposed_y = random.randrange(0, height)\n",
        "            if self.field[proposed_y][proposed_x] == 0:\n",
        "                self.field[proposed_y][proposed_x] = 1\n",
        "                mine_counter += 1\n",
        "\n",
        "        self.display_field = np.zeros_like(self.field)  # This is the public game state\n",
        "        if show:\n",
        "            print(self.field)\n"
      ]
    },
    {
      "cell_type": "code",
      "source": [
        "ms = Minesweeper()\n",
        "ms.generate_field(10, 10)"
      ],
      "metadata": {
        "colab": {
          "base_uri": "https://localhost:8080/"
        },
        "id": "ZbvAfBIlUGJP",
        "outputId": "89ca89c6-e824-4fed-f9a7-a93f181e94b1"
      },
      "execution_count": 79,
      "outputs": [
        {
          "output_type": "stream",
          "name": "stdout",
          "text": [
            "[INIT] Game Init\n",
            "[INFO] Generating Minefield\n"
          ]
        }
      ]
    },
    {
      "cell_type": "code",
      "source": [
        "ms.play_square(1, 3)"
      ],
      "metadata": {
        "colab": {
          "base_uri": "https://localhost:8080/"
        },
        "id": "pVR_DaAvUJaq",
        "outputId": "2e61270c-2431-40e6-ca06-e729a171b903"
      },
      "execution_count": 80,
      "outputs": [
        {
          "output_type": "stream",
          "name": "stdout",
          "text": [
            "\n",
            "⬜\t⬜\t⬜\t⬜\t⬜\t⬜\t⬜\t⬜\t⬜\t⬜\t\n",
            "\n",
            "⬜\t⬜\t⬜\t⬜\t⬜\t⬜\t⬜\t⬜\t⬜\t⬜\t\n",
            "\n",
            "0\t⬜\t⬜\t⬜\t⬜\t⬜\t⬜\t⬜\t⬜\t⬜\t\n",
            "\n",
            "⬜\t⬜\t⬜\t⬜\t⬜\t⬜\t⬜\t⬜\t⬜\t⬜\t\n",
            "\n",
            "⬜\t⬜\t⬜\t⬜\t⬜\t⬜\t⬜\t⬜\t⬜\t⬜\t\n",
            "\n",
            "⬜\t⬜\t⬜\t⬜\t⬜\t⬜\t⬜\t⬜\t⬜\t⬜\t\n",
            "\n",
            "⬜\t⬜\t⬜\t⬜\t⬜\t⬜\t⬜\t⬜\t⬜\t⬜\t\n",
            "\n",
            "⬜\t⬜\t⬜\t⬜\t⬜\t⬜\t⬜\t⬜\t⬜\t⬜\t\n",
            "\n",
            "⬜\t⬜\t⬜\t⬜\t⬜\t⬜\t⬜\t⬜\t⬜\t⬜\t\n",
            "\n",
            "⬜\t⬜\t⬜\t⬜\t⬜\t⬜\t⬜\t⬜\t⬜\t⬜\t\n",
            "\n"
          ]
        }
      ]
    }
  ]
}